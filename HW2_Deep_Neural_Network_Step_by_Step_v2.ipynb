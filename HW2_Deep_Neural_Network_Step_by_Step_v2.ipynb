{
  "nbformat": 4,
  "nbformat_minor": 0,
  "metadata": {
    "coursera": {
      "course_slug": "neural-networks-deep-learning",
      "graded_item_id": "c4HO0",
      "launcher_item_id": "lSYZM"
    },
    "kernelspec": {
      "display_name": "Python 3",
      "language": "python",
      "name": "python3"
    },
    "language_info": {
      "codemirror_mode": {
        "name": "ipython",
        "version": 3
      },
      "file_extension": ".py",
      "mimetype": "text/x-python",
      "name": "python",
      "nbconvert_exporter": "python",
      "pygments_lexer": "ipython3",
      "version": "3.6.0"
    },
    "colab": {
      "name": "HW2_Deep_Neural_Network_Step_by_Step_v2.ipynb",
      "provenance": [],
      "collapsed_sections": [
        "13widXLVt4_Z",
        "oJmx89lskbi5",
        "-gdbw-Y0wXNy",
        "lJawGOMUkbi6",
        "hrdKqACDtbKG",
        "0j76WS9UkbjE",
        "1_ppYyUFkbjL",
        "V5pWxRJQkbjW",
        "4y7wFQDskbjb",
        "eVt1JgyLkbjg",
        "y4ILCKOhkbjg",
        "moyG125Bkbjm",
        "mJ2YkBaqkbjs",
        "nuF_Lq7Ekbjw",
        "SpCfoRoI8Uc3",
        "sXb6Qscukbj0"
      ]
    }
  },
  "cells": [
    {
      "cell_type": "markdown",
      "metadata": {
        "id": "g2NP1Jm6grOA",
        "colab_type": "text"
      },
      "source": [
        "#Homework 2. Part 1\n",
        "When you download the file into your Google Drive, please insert your name and student ID number here by replacing my name in the fields below.\n",
        "\n",
        "SeokHwan SONG   ID: 701520820\n"
      ]
    },
    {
      "cell_type": "markdown",
      "metadata": {
        "id": "MD7n4BGOkbim",
        "colab_type": "text"
      },
      "source": [
        "# Building a Deep Neural Network: Step by Step\n",
        "\n",
        "Welcome to your second assignment (part 1 of 2)! You have previously trained a 2-layer Logistic Regression Neural Network. This week, you will build a deep neural network, with as many layers as you want! THe code and structure of this assignment comes from Deep AI course taught by Andrew Ng on Coursera.\n",
        "\n",
        "**Outline of Assignment**\n",
        "1. Read through the codes in sections 1 through 5 and make sure that you understand the feedforward processing in the model. \n",
        "2. In section 6, the backpropagation processing, you will need to add in code to perform the back propagation processing in the four routines. \n",
        "3. Section 7: run your complete model and observe the error optimization. Answer the questions. This would be a good time to go into the Runtime menu and change your Runtime Type to use the GPUs. \n",
        "4. Section 8: look at the training and testing accuracy results and analyze what is happening with your network. Map out a plan for improving your results using regularization and optimization methods. This will be your plan for part 2 of this assignment.\n",
        "\n",
        "**After this assignment you will be able to:**\n",
        "- Use non-linear units like ReLU to improve your model\n",
        "- Build a deep neural network\n",
        "- Implement an easy-to-use neural network class\n",
        "\n",
        "**Notation**:\n",
        "- Superscript $[l]$ denotes a quantity associated with the $l^{th}$ layer. \n",
        "    - Example: $a^{[L]}$ is the $L^{th}$ layer activation. $W^{[L]}$ and $b^{[L]}$ are the $L^{th}$ layer parameters.\n",
        "- Superscript $(i)$ denotes a quantity associated with the $i^{th}$ example. \n",
        "    - Example: $x^{(i)}$ is the $i^{th}$ training example.\n",
        "- Lowerscript $i$ denotes the $i^{th}$ entry of a vector.\n",
        "    - Example: $a^{[l]}_i$ denotes the $i^{th}$ entry of the $l^{th}$ layer's activations).\n"
      ]
    },
    {
      "cell_type": "markdown",
      "metadata": {
        "id": "13widXLVt4_Z",
        "colab_type": "text"
      },
      "source": [
        "## 1.0 - Mount Google Drive and import packages"
      ]
    },
    {
      "cell_type": "code",
      "metadata": {
        "id": "LTeRqVILtLgG",
        "colab_type": "code",
        "colab": {
          "base_uri": "https://localhost:8080/",
          "height": 34
        },
        "outputId": "ae1f502b-8c40-4b4c-a89d-69650c17ac50"
      },
      "source": [
        "# Mount your local google drive\n",
        "from google.colab import drive\n",
        "drive.mount('/content/gdrive')"
      ],
      "execution_count": 1,
      "outputs": [
        {
          "output_type": "stream",
          "text": [
            "Mounted at /content/gdrive\n"
          ],
          "name": "stdout"
        }
      ]
    },
    {
      "cell_type": "markdown",
      "metadata": {
        "id": "EIYbAFUppXPM",
        "colab_type": "text"
      },
      "source": [
        "***Import utility files into Google Colab***\n",
        "testCases_v4a.py provides unit test cases for testing the files. As in Homework 1, you need to put in the proper path for your machine."
      ]
    },
    {
      "cell_type": "code",
      "metadata": {
        "id": "taCR0x8KpHBL",
        "colab_type": "code",
        "colab": {}
      },
      "source": [
        "\n",
        "#%load \"/content/gdrive/My Drive/Colab Notebooks/EE526HW2/testCases_v4a.py\"\n",
        "!cp \"/content/gdrive/My Drive/Colab Notebooks/EE526HW2/testCases_v4a.py\" .\n",
        "from testCases_v4a import *"
      ],
      "execution_count": 2,
      "outputs": []
    },
    {
      "cell_type": "markdown",
      "metadata": {
        "id": "5eAckZ0skbir",
        "colab_type": "text"
      },
      "source": [
        "### 1.1 - Packages\n",
        "\n",
        "Now, let's first import all the packages that you will need during this assignment. \n",
        "- [numpy](www.numpy.org) is the main package for scientific computing with Python.\n",
        "- [matplotlib](http://matplotlib.org) is a library to plot graphs in Python.\n",
        "- np.random.seed(1) is used to keep all the random function calls consistent. It will help us grade your work. Please don't change the seed. "
      ]
    },
    {
      "cell_type": "code",
      "metadata": {
        "id": "HEBJf8T6kbit",
        "colab_type": "code",
        "colab": {}
      },
      "source": [
        "import numpy as np\n",
        "import pickle\n",
        "import matplotlib.pyplot as plt\n",
        "\n",
        "%matplotlib inline\n",
        "plt.rcParams['figure.figsize'] = (5.0, 4.0) # set default size of plots\n",
        "plt.rcParams['image.interpolation'] = 'nearest'\n",
        "plt.rcParams['image.cmap'] = 'gray'\n",
        "\n",
        "\n",
        "np.random.seed(1)"
      ],
      "execution_count": 4,
      "outputs": []
    },
    {
      "cell_type": "markdown",
      "metadata": {
        "id": "oJmx89lskbi5",
        "colab_type": "text"
      },
      "source": [
        "## 2 - Outline of the Assignment\n",
        "\n",
        "To build your neural network, you will need several \"helper functions\". Here is an outline of this assignment, you will:\n",
        "\n",
        "- Initialize the parameters for an $L$-layer neural network.\n",
        "- Review the forward propagation module.\n",
        "     - Complete the LINEAR part of a layer's forward propagation step (resulting in $Z^{[l]}$).\n",
        "     - We give you the ACTIVATION function (relu/sigmoid).\n",
        "     - Combine the previous two steps into a new [LINEAR->ACTIVATION] forward function.\n",
        "     - Stack the [LINEAR->RELU] forward function L-1 time (for layers 1 through L-1) and add a [LINEAR->SIGMOID] at the end (for the final layer $L$). This gives you a new L_model_forward function.\n",
        "- Compute the loss.\n",
        "- Implement the backward propagation module.\n",
        "    - Complete the LINEAR part of a layer's backward propagation step.\n",
        "    - We give you the gradient of the ACTIVATE function (relu_backward/sigmoid_backward) \n",
        "    - Combine the previous two steps into a new [LINEAR->ACTIVATION] backward function.\n",
        "    - Stack [LINEAR->RELU] backward L-1 times and add [LINEAR->SIGMOID] backward in a new L_model_backward function\n",
        "- Finally update the parameters, W and b.\n",
        "\n",
        "\n",
        "**Note** that for every forward function, there is a corresponding backward function. That is why at every step of your forward module you will be storing some values in a cache. The cached values are useful for computing gradients. In the backpropagation module you will then use the cache to calculate the gradients. This assignment will show you exactly how to carry out each of these steps. "
      ]
    },
    {
      "cell_type": "markdown",
      "metadata": {
        "id": "_dXH3nbBs1ij",
        "colab_type": "text"
      },
      "source": [
        "###2.1 Read in the data set"
      ]
    },
    {
      "cell_type": "code",
      "metadata": {
        "id": "6aaPKv3Utkkq",
        "colab_type": "code",
        "colab": {}
      },
      "source": [
        "#Set path for your system\n",
        "with open('/content/gdrive/My Drive/Colab Notebooks/EE526HW2/data_dog_nondog.pickle', 'rb') as handle:\n",
        "    data_dict = pickle.load(handle)\n"
      ],
      "execution_count": 5,
      "outputs": []
    },
    {
      "cell_type": "markdown",
      "metadata": {
        "id": "DtRs9kFjttP3",
        "colab_type": "text"
      },
      "source": [
        "### 2.2 Preprocess the data set\n",
        "The images have already been preprocessed into a vector. After preprocessing, we will end up with train_set_x and test_set_x where each column is an input data vector.\n",
        "Each line of your train_set_x_orig and test_set_x_orig is an array representing an image. You can visualize an example by running the following code. Change the index value and re-run the cell to see other images. For more details, refer cifar10 to check how authors organized data."
      ]
    },
    {
      "cell_type": "code",
      "metadata": {
        "id": "XM4Zb3wrtzSX",
        "colab_type": "code",
        "colab": {
          "base_uri": "https://localhost:8080/",
          "height": 85
        },
        "outputId": "e5df650e-d42a-489e-ebb2-441a9edf5e4e"
      },
      "source": [
        "x_train = data_dict['x_train']\n",
        "y_train = data_dict['y_train']\n",
        "x_test = data_dict['x_test']\n",
        "y_test = data_dict['y_test']\n",
        "print(x_train.shape)\n",
        "print(y_train.shape)\n",
        "print(x_test.shape)\n",
        "print(y_test.shape)"
      ],
      "execution_count": 6,
      "outputs": [
        {
          "output_type": "stream",
          "text": [
            "(2000, 3072)\n",
            "(2000,)\n",
            "(200, 3072)\n",
            "(200,)\n"
          ],
          "name": "stdout"
        }
      ]
    },
    {
      "cell_type": "code",
      "metadata": {
        "id": "Mv1Sf0FVuel2",
        "colab_type": "code",
        "colab": {
          "base_uri": "https://localhost:8080/",
          "height": 85
        },
        "outputId": "eb8cddc1-c02f-47bf-f151-c24c247b8cc6"
      },
      "source": [
        "# Transpose the data so that each column is an image (dog/non-dog)\n",
        "x_train = x_train.T\n",
        "y_train = y_train[:,None].T\n",
        "x_test = x_test.T\n",
        "y_test = y_test[:,None].T\n",
        "print(x_train.shape)\n",
        "print(y_train.shape)\n",
        "print(x_test.shape)\n",
        "print(y_test.shape)"
      ],
      "execution_count": 7,
      "outputs": [
        {
          "output_type": "stream",
          "text": [
            "(3072, 2000)\n",
            "(1, 2000)\n",
            "(3072, 200)\n",
            "(1, 200)\n"
          ],
          "name": "stdout"
        }
      ]
    },
    {
      "cell_type": "code",
      "metadata": {
        "id": "-5UjpPlTv1S4",
        "colab_type": "code",
        "colab": {
          "base_uri": "https://localhost:8080/",
          "height": 68
        },
        "outputId": "b57c8fff-db37-4a6b-b452-136cf771727b"
      },
      "source": [
        "### Find size of data set\n",
        "m_train = x_train.shape[1]\n",
        "m_test = x_test.shape[1]\n",
        "num_nx = x_train.shape[0]\n",
        "\n",
        "print (\"Number of training examples: m_train = \" + str(m_train))\n",
        "print (\"Number of testing examples: m_test = \" + str(m_test))\n",
        "print (\"Height/Width of each image: num_px = \" + str(num_nx))\n"
      ],
      "execution_count": 8,
      "outputs": [
        {
          "output_type": "stream",
          "text": [
            "Number of training examples: m_train = 2000\n",
            "Number of testing examples: m_test = 200\n",
            "Height/Width of each image: num_px = 3072\n"
          ],
          "name": "stdout"
        }
      ]
    },
    {
      "cell_type": "markdown",
      "metadata": {
        "id": "aU67nDfrwAfB",
        "colab_type": "text"
      },
      "source": [
        "Expected Output for m_train, m_test and num_px:\n",
        "\n",
        "**m_train**\t2000\n",
        "\n",
        "**m_test**\t200\n",
        "\n",
        "**num_nx**\t3072\n"
      ]
    },
    {
      "cell_type": "markdown",
      "metadata": {
        "id": "-gdbw-Y0wXNy",
        "colab_type": "text"
      },
      "source": [
        "###2.3 Standardize the data\n",
        "\n",
        "One common preprocessing step in machine learning is to center and standardize your dataset, meaning that you substract the mean of the whole numpy array from each example, and then divide each example by the standard deviation of the whole numpy array. This normalization helps to scale all the data into the same range. \n",
        "\n",
        "For picture datasets, it is simpler and more convenient and works almost as well to just divide every row of the dataset by 255 (the maximum value of a pixel channel).\n"
      ]
    },
    {
      "cell_type": "code",
      "metadata": {
        "id": "8NOf4kxjwV4F",
        "colab_type": "code",
        "colab": {
          "base_uri": "https://localhost:8080/",
          "height": 51
        },
        "outputId": "21450b87-1f40-400a-cc59-563133ed1803"
      },
      "source": [
        "mean_x = np.mean(x_train)\n",
        "std_x = np.std(x_train)\n",
        "print(mean_x,std_x)\n",
        "train_set_x = (x_train-mean_x)/std_x\n",
        "test_set_x = (x_test-mean_x)/std_x\n",
        "print(np.mean(train_set_x),np.std(train_set_x))"
      ],
      "execution_count": 9,
      "outputs": [
        {
          "output_type": "stream",
          "text": [
            "119.66870817057291 64.03994966767696\n",
            "6.872280522429719e-17 0.9999999999999996\n"
          ],
          "name": "stdout"
        }
      ]
    },
    {
      "cell_type": "markdown",
      "metadata": {
        "id": "lJawGOMUkbi6",
        "colab_type": "text"
      },
      "source": [
        "## 3 - Initialization and Helper Functions\n",
        "\n",
        "You first need to review the helper functions that will initialize the parameters for your model and that compute the activation functions. These functions will generalize this initialization process to $L$ layers.\n"
      ]
    },
    {
      "cell_type": "markdown",
      "metadata": {
        "id": "hrdKqACDtbKG",
        "colab_type": "text"
      },
      "source": [
        "### 3.1 Activation Function Definition\n",
        "This network uses the ReLU and the sigmoid activation functions. We also need to define their derivatives for the back propagation steps.\n"
      ]
    },
    {
      "cell_type": "code",
      "metadata": {
        "id": "cmO2wo5Xt58N",
        "colab_type": "code",
        "colab": {}
      },
      "source": [
        "def sigmoid(Z):\n",
        "    \"\"\"\n",
        "    Implements the sigmoid activation in numpy\n",
        "    \n",
        "    Arguments:\n",
        "    Z -- numpy array of any shape\n",
        "    \n",
        "    Returns:\n",
        "    A -- output of sigmoid(z), same shape as Z\n",
        "    cache -- returns Z as well, useful during backpropagation\n",
        "    \"\"\"\n",
        "    \n",
        "    A = 1/(1+np.exp(-Z))\n",
        "    cache = Z\n",
        "    \n",
        "    return A, cache\n",
        "\n",
        "def relu(Z):\n",
        "    \"\"\"\n",
        "    Implement the RELU function.\n",
        "\n",
        "    Arguments:\n",
        "    Z -- Output of the linear layer, of any shape\n",
        "\n",
        "    Returns:\n",
        "    A -- Post-activation parameter, of the same shape as Z\n",
        "    cache -- a python dictionary containing \"A\" ; stored for computing the backward pass efficiently\n",
        "    \"\"\"\n",
        "    \n",
        "    A = np.maximum(0,Z)\n",
        "    \n",
        "    assert(A.shape == Z.shape)\n",
        "    \n",
        "    cache = Z \n",
        "    return A, cache\n",
        "\n",
        "\n",
        "def relu_backward(dA, cache):\n",
        "    \"\"\"\n",
        "    Implement the backward propagation for a single RELU unit.\n",
        "\n",
        "    Arguments:\n",
        "    dA -- post-activation gradient, of any shape\n",
        "    cache -- 'Z' where we store for computing backward propagation efficiently\n",
        "\n",
        "    Returns:\n",
        "    dZ -- Gradient of the cost with respect to Z\n",
        "    \"\"\"\n",
        "    \n",
        "    Z = cache\n",
        "    dZ = np.array(dA, copy=True) # just converting dz to a correct object.\n",
        "    \n",
        "    # When z <= 0, you should set dz to 0 as well. \n",
        "    dZ[Z <= 0] = 0\n",
        "    \n",
        "    assert (dZ.shape == Z.shape)\n",
        "    \n",
        "    return dZ\n",
        "\n",
        "def sigmoid_backward(dA, cache):\n",
        "    \"\"\"\n",
        "    Implement the backward propagation for a single SIGMOID unit.\n",
        "\n",
        "    Arguments:\n",
        "    dA -- post-activation gradient, of any shape\n",
        "    cache -- 'Z' where we store for computing backward propagation efficiently\n",
        "\n",
        "    Returns:\n",
        "    dZ -- Gradient of the cost with respect to Z\n",
        "    \"\"\"\n",
        "    \n",
        "    Z = cache\n",
        "    \n",
        "    s = 1/(1+np.exp(-Z))\n",
        "    dZ = dA * s * (1-s)\n",
        "    \n",
        "    assert (dZ.shape == Z.shape)\n",
        "    \n",
        "    return dZ"
      ],
      "execution_count": 10,
      "outputs": []
    },
    {
      "cell_type": "markdown",
      "metadata": {
        "id": "0j76WS9UkbjE",
        "colab_type": "text"
      },
      "source": [
        "### 3.2 - L-layer Neural Network Initialization\n",
        "\n",
        "The initialization for a deeper L-layer neural network is complicated because there are many more weight matrices and bias vectors. When completing the `initialize_parameters_deep`, you should make sure that your dimensions match between each layer. Recall that $n^{[l]}$ is the number of units in layer $l$. Thus for example if the size of our input $X$ is $(3027, 2000)$ (with $m=2000$ examples) then:\n",
        "\n",
        "**Layer 1** <td>\n",
        "\n",
        "**Shape of W**  $(n^{[1]},3072)$\n",
        "\n",
        "**Shape of b**  $(n^{[1]},1)$\n",
        "\n",
        "**Activation** $Z^{[1]} = W^{[1]}  X + b^{[1]} $\n",
        "\n",
        "**Shape of A** $(n^{[1]},2000)$ <td> $(n^{[2]}, 2000)$ </td> \n",
        "    \n",
        "\n",
        " **Layer 2** </td>\n",
        "\n",
        "**Shape of W**   $(n^{[2]}, n^{[1]})$\n",
        "\n",
        "**Shape of b**   $(n^{[2]},1)$\n",
        "\n",
        "**Activation**  $Z^{[2]} = W^{[2]} A^{[1]} + b^{[2]}$ \n",
        "\n",
        " **Layer L-1** \n",
        " \n",
        "$(n^{[L-1]}, n^{[L-2]})$ \n",
        "   \n",
        "$(n^{[L-1]}, 1)$\n",
        "        \n",
        "$Z^{[L-1]} =  W^{[L-1]} A^{[L-2]} + b^{[L-1]}$\n",
        "         \n",
        "$(n^{[L-1]}, 2000)$ </td> \n",
        " \n",
        "\n",
        "\n",
        "Remember that when we compute $W X + b$ in python, it carries out broadcasting. For example, if: \n",
        "\n",
        "$$ W = \\begin{bmatrix}\n",
        "    j  & k  & l\\\\\n",
        "    m  & n & o \\\\\n",
        "    p  & q & r \n",
        "\\end{bmatrix}\\;\\;\\; X = \\begin{bmatrix}\n",
        "    a  & b  & c\\\\\n",
        "    d  & e & f \\\\\n",
        "    g  & h & i \n",
        "\\end{bmatrix} \\;\\;\\; b =\\begin{bmatrix}\n",
        "    s  \\\\\n",
        "    t  \\\\\n",
        "    u\n",
        "\\end{bmatrix}\\tag{2}$$\n",
        "\n",
        "Then $WX + b$ will be:\n",
        "\n",
        "$$ WX + b = \\begin{bmatrix}\n",
        "    (ja + kd + lg) + s  & (jb + ke + lh) + s  & (jc + kf + li)+ s\\\\\n",
        "    (ma + nd + og) + t & (mb + ne + oh) + t & (mc + nf + oi) + t\\\\\n",
        "    (pa + qd + rg) + u & (pb + qe + rh) + u & (pc + qf + ri)+ u\n",
        "\\end{bmatrix}\\tag{3}  $$"
      ]
    },
    {
      "cell_type": "markdown",
      "metadata": {
        "id": "CoyYc5kskbjF",
        "colab_type": "text"
      },
      "source": [
        "**Initialization for an L-layer Neural Network**:\n",
        "\n",
        "**Steps**:\n",
        "- The model's structure is *[LINEAR -> RELU] $ \\times$ (L-1) -> LINEAR -> SIGMOID*. i.e., it has $L-1$ layers using a ReLU activation function followed by an output layer with a sigmoid activation function.\n",
        "- Use random initialization for the weight matrices. Use `np.random.randn(shape) * 0.01`.\n",
        "- Use zeros initialization for the biases. Use `np.zeros(shape)`.\n",
        "- We will store $n^{[l]}$, the number of units in different layers, in a variable `layer_dims`.\n",
        "- Note how we are using the Python dictionary structure to keep all the learned parameters together."
      ]
    },
    {
      "cell_type": "code",
      "metadata": {
        "id": "VghMADswkbjF",
        "colab_type": "code",
        "colab": {}
      },
      "source": [
        "def initialize_parameters_deep(layer_dims):\n",
        "    \"\"\"\n",
        "    Arguments:\n",
        "    layer_dims -- python array (list) containing the dimensions of each layer in our network\n",
        "    \n",
        "    Returns:\n",
        "    parameters -- python dictionary containing your parameters \"W1\", \"b1\", ..., \"WL\", \"bL\":\n",
        "                    Wl -- weight matrix of shape (layer_dims[l], layer_dims[l-1])\n",
        "                    bl -- bias vector of shape (layer_dims[l], 1)\n",
        "    \"\"\"\n",
        "    \n",
        "    np.random.seed(3)\n",
        "    parameters = {}\n",
        "    L = len(layer_dims)            # number of layers in the network\n",
        "\n",
        "    for l in range(1, L):\n",
        "        parameters['W' + str(l)] = np.random.randn(layer_dims[l], layer_dims[l-1]) * 0.1\n",
        "        parameters['b' + str(l)] = np.zeros((layer_dims[l], 1))\n",
        "        \n",
        "        assert(parameters['W' + str(l)].shape == (layer_dims[l], layer_dims[l-1]))\n",
        "        assert(parameters['b' + str(l)].shape == (layer_dims[l], 1))\n",
        "        \n",
        "    return parameters"
      ],
      "execution_count": 11,
      "outputs": []
    },
    {
      "cell_type": "markdown",
      "metadata": {
        "id": "1_ppYyUFkbjL",
        "colab_type": "text"
      },
      "source": [
        "## 4 - Forward propagation module\n",
        "\n",
        "###4.1 - Linear Activation Forward \n",
        "Now that the weights and biases are initialized, we review the forward propagation module. The structure is three functions in this order\n",
        "- LINEAR Computes Z\n",
        "- LINEAR -> ACTIVATION where ACTIVATION will be either ReLU or Sigmoid. \n",
        "- [LINEAR -> RELU] $\\times$ (L-1) -> LINEAR -> SIGMOID (whole model)\n",
        "\n",
        "For more convenience, you are going to group two functions (Linear and Activation) into one function (LINEAR->ACTIVATION). Hence, you will implement a function that does the LINEAR forward step followed by an ACTIVATION forward step. \n",
        "The linear forward step (vectorized over all the examples) computes the following equations:\n",
        "\n",
        "$$Z^{[l]} = W^{[l]}A^{[l-1]} +b^{[l]}\\tag{4}$$\n",
        "\n",
        "where $A^{[0]} = X$. \n",
        "\n",
        "In this network, you use two activation functions on the linear activation value, Z.:\n",
        "\n",
        "- **Sigmoid**: $\\sigma(Z) = \\sigma(W A + b) = \\frac{1}{ 1 + e^{-(W A + b)}}$.  To use it call: \n",
        "``` python\n",
        "A = sigmoid(Z)\n",
        "```\n",
        "\n",
        "- **ReLU**: The mathematical formula for ReLu is $A = RELU(Z) = max(0, Z)$. To use it, call:\n",
        "``` python\n",
        "A = relu(Z)\n",
        "```\n",
        "\n",
        "**Note on use of caches**:\n",
        "We are storing the the values for each layer in caches. The linear cache holds **A**, **W** and b values. The activation cache will hold the Z values."
      ]
    },
    {
      "cell_type": "code",
      "metadata": {
        "id": "mdugb0gDkbjR",
        "colab_type": "code",
        "colab": {}
      },
      "source": [
        "def linear_forward(A, W, b):\n",
        "    \"\"\"\n",
        "    Implement the linear part of a layer's forward propagation.\n",
        "\n",
        "    Arguments:\n",
        "    A -- activations from previous layer (or input data): (size of previous layer, number of examples)\n",
        "    W -- weights matrix: numpy array of shape (size of current layer, size of previous layer)\n",
        "    b -- bias vector, numpy array of shape (size of the current layer, 1)\n",
        "\n",
        "    Returns:\n",
        "    Z -- the input of the activation function, also called pre-activation parameter \n",
        "    cache -- a python dictionary containing \"A\", \"W\" and \"b\" ; stored for computing the backward pass efficiently\n",
        "    \"\"\"\n",
        "    \n",
        "    Z = W.dot(A) + b\n",
        "    \n",
        "    assert(Z.shape == (W.shape[0], A.shape[1]))\n",
        "    cache = (A, W, b)\n",
        "    \n",
        "    return Z, cache\n",
        "\n",
        "def linear_activation_forward(A_prev, W, b, activation):\n",
        "    \"\"\"\n",
        "    Implement the forward propagation for the LINEAR->ACTIVATION layer\n",
        "\n",
        "    Arguments:\n",
        "    A_prev -- activations from previous layer (or input data): (size of previous layer, number of examples)\n",
        "    W -- weights matrix: numpy array of shape (size of current layer, size of previous layer)\n",
        "    b -- bias vector, numpy array of shape (size of the current layer, 1)\n",
        "    activation -- the activation to be used in this layer, stored as a text string: \"sigmoid\" or \"relu\"\n",
        "\n",
        "    Returns:\n",
        "    A -- the output of the activation function, also called the post-activation value \n",
        "    cache -- a python dictionary containing \"linear_cache\" and \"activation_cache\";\n",
        "             stored for computing the backward pass efficiently\n",
        "    \"\"\"\n",
        "    \n",
        "    if activation == \"sigmoid\":\n",
        "        # Inputs: \"A_prev, W, b\". Outputs: \"A, activation_cache\".\n",
        "        Z, linear_cache = linear_forward(A_prev, W, b)\n",
        "        A, activation_cache = sigmoid(Z)\n",
        "    \n",
        "    elif activation == \"relu\":\n",
        "        # Inputs: \"A_prev, W, b\". Outputs: \"A, activation_cache\".\n",
        "        Z, linear_cache = linear_forward(A_prev, W, b)\n",
        "        A, activation_cache = relu(Z)\n",
        "    \n",
        "    assert (A.shape == (W.shape[0], A_prev.shape[1]))\n",
        "    cache = (linear_cache, activation_cache)\n",
        "\n",
        "    return A, cache"
      ],
      "execution_count": 12,
      "outputs": []
    },
    {
      "cell_type": "code",
      "metadata": {
        "id": "MbK02UobkCLg",
        "colab_type": "code",
        "colab": {
          "base_uri": "https://localhost:8080/",
          "height": 51
        },
        "outputId": "f1c06cb1-3b0b-4d9d-85e5-47335cfdf575"
      },
      "source": [
        "A_prev, W, b = linear_forward_test_case()\n",
        "A, linear_activation_cache = linear_activation_forward(A_prev, W, b, activation = \"sigmoid\")\n",
        "print(\"With sigmoid: A = \" + str(A))\n",
        "\n",
        "A, linear_activation_cache = linear_activation_forward(A_prev, W, b, activation = \"relu\")\n",
        "print(\"With ReLU: A = \" + str(A))"
      ],
      "execution_count": 13,
      "outputs": [
        {
          "output_type": "stream",
          "text": [
            "With sigmoid: A = [[0.96890023 0.11013289]]\n",
            "With ReLU: A = [[3.43896131 0.        ]]\n"
          ],
          "name": "stdout"
        }
      ]
    },
    {
      "cell_type": "markdown",
      "metadata": {
        "id": "mO3Hn3yckbjV",
        "colab_type": "text"
      },
      "source": [
        "**Expected output**:\n",
        "       \n",
        "<table style=\"width:35%\">\n",
        "  <tr>\n",
        "    <td> **With sigmoid: A ** </td>\n",
        "    <td > [[ 0.96890023  0.11013289]]</td> \n",
        "  </tr>\n",
        "  <tr>\n",
        "    <td> **With ReLU: A ** </td>\n",
        "    <td > [[ 3.43896131  0.        ]]</td> \n",
        "  </tr>\n",
        "</table>\n"
      ]
    },
    {
      "cell_type": "markdown",
      "metadata": {
        "id": "JnJ3ChmmkbjW",
        "colab_type": "text"
      },
      "source": [
        "**Note**: In deep learning, the \"[LINEAR->ACTIVATION]\" computation is counted as a single layer in the neural network, not two layers. "
      ]
    },
    {
      "cell_type": "markdown",
      "metadata": {
        "id": "V5pWxRJQkbjW",
        "colab_type": "text"
      },
      "source": [
        "### 4.2 L-Layer Model for Feedforward step\n",
        "\n",
        "The next function calls the `linear_activation_forward` with RELU) $L-1$ times, then follows that with one `linear_activation_forward` with SIGMOID activation.\n",
        "\n",
        "**Notes**:\n",
        "1. In the code below, the variable `AL` will denote $A^{[L]} = \\sigma(Z^{[L]}) = \\sigma(W^{[L]} A^{[L-1]} + b^{[L]})$. (This is sometimes also called `Yhat`, i.e., this is $\\hat{Y}$.) \n",
        "\n",
        "2. Keep track of the caches in the \"caches\" list. The linear  caches contain A,W, and b. The activation cache contains Z. To add a new value `c` to a `list`, you can use `list.append(c)`. In this case, we use caches.append(caches)"
      ]
    },
    {
      "cell_type": "code",
      "metadata": {
        "id": "u5V4jnuHkbjW",
        "colab_type": "code",
        "colab": {}
      },
      "source": [
        "def L_model_forward(X, parameters):\n",
        "    \"\"\"\n",
        "    Implement forward propagation for the [LINEAR->RELU]*(L-1)->LINEAR->SIGMOID computation\n",
        "    \n",
        "    Arguments:\n",
        "    X -- data, numpy array of shape (input size, number of examples)\n",
        "    parameters -- output of initialize_parameters_deep()\n",
        "    \n",
        "    Returns:\n",
        "    AL -- last post-activation value\n",
        "    caches -- list of caches containing:\n",
        "                every cache of linear_activation_forward() (there are L-1 of them, indexed from 0 to L-1)\n",
        "    \"\"\"\n",
        "\n",
        "    caches = []\n",
        "    A = X\n",
        "    L = len(parameters) // 2                  # number of layers in the neural network\n",
        "    \n",
        "    # [LINEAR -> RELU]*(L-1). Add \"cache\" to the \"caches\" list.\n",
        "    for l in range(1, L):\n",
        "        A_prev = A \n",
        "        A, cache = linear_activation_forward(A_prev, parameters['W' + str(l)], parameters['b' + str(l)], activation = \"relu\")\n",
        "        caches.append(cache)\n",
        "    \n",
        "    # LINEAR -> SIGMOID. Add \"cache\" to the \"caches\" list.\n",
        "    AL, cache =  linear_activation_forward(A, parameters['W' + str(L)], parameters['b' + str(L)], activation = \"sigmoid\")\n",
        "    caches.append(cache)\n",
        "    \n",
        "    assert(AL.shape == (1,X.shape[1]))\n",
        "\n",
        "    return AL, caches"
      ],
      "execution_count": 14,
      "outputs": []
    },
    {
      "cell_type": "code",
      "metadata": {
        "id": "Dkd8RiLtkbjY",
        "colab_type": "code",
        "colab": {
          "base_uri": "https://localhost:8080/",
          "height": 51
        },
        "outputId": "585f0dfd-1f41-4448-9303-204f2ca17221"
      },
      "source": [
        "X, parameters = L_model_forward_test_case_2hidden()\n",
        "\n",
        "AL, caches = L_model_forward(X, parameters)\n",
        "print(\"AL = \" + str(AL))\n",
        "print(\"Length of caches list = \" + str(len(caches)))\n"
      ],
      "execution_count": 15,
      "outputs": [
        {
          "output_type": "stream",
          "text": [
            "AL = [[0.03921668 0.70498921 0.19734387 0.04728177]]\n",
            "Length of caches list = 3\n"
          ],
          "name": "stdout"
        }
      ]
    },
    {
      "cell_type": "markdown",
      "metadata": {
        "id": "p6rYmDxukbja",
        "colab_type": "text"
      },
      "source": [
        "<table style=\"width:50%\">\n",
        "  <tr>\n",
        "    <td> **AL** </td>\n",
        "    <td > [[ 0.03921668  0.70498921  0.19734387  0.04728177]]</td> \n",
        "  </tr>\n",
        "  <tr>\n",
        "    <td> **Length of caches list ** </td>\n",
        "    <td > 3 </td> \n",
        "  </tr>\n",
        "</table>"
      ]
    },
    {
      "cell_type": "markdown",
      "metadata": {
        "id": "iBPou05okbjb",
        "colab_type": "text"
      },
      "source": [
        "Great! Now you have a full forward propagation that takes the input X and outputs a row vector $A^{[L]}$ containing your predictions. It also records all intermediate values in \"caches\". Using $A^{[L]}$, you can compute the cost of your predictions."
      ]
    },
    {
      "cell_type": "markdown",
      "metadata": {
        "id": "4y7wFQDskbjb",
        "colab_type": "text"
      },
      "source": [
        "## 5 - Cost function\n",
        "\n",
        "This code computes the cross-entropy cost $J$, using the following formula: $$-\\frac{1}{m} \\sum\\limits_{i = 1}^{m} (y^{(i)}\\log\\left(a^{[L] (i)}\\right) + (1-y^{(i)})\\log\\left(1- a^{[L](i)}\\right)) \\tag{7}$$\n",
        "\n",
        "This is the same code that was used in homework 1.\n"
      ]
    },
    {
      "cell_type": "code",
      "metadata": {
        "id": "2WjAabCYkbjb",
        "colab_type": "code",
        "colab": {}
      },
      "source": [
        "def compute_cost(AL, Y):\n",
        "    \"\"\"\n",
        "    Implement the cost function defined by equation (7).\n",
        "\n",
        "    Arguments:\n",
        "    AL -- probability vector corresponding to your label predictions, shape (1, number of examples)\n",
        "    Y -- true \"label\" vector (for example: containing 0 if non-dog, 1 if dog), shape (1, number of examples)\n",
        "\n",
        "    Returns:\n",
        "    cost -- cross-entropy cost\n",
        "    \"\"\"\n",
        "    \n",
        "    m = Y.shape[1] # number of inputs\n",
        "    assert(Y.shape == AL.shape)\n",
        "\n",
        "    # Compute loss from aL and y.\n",
        "    cost = - np.sum(np.multiply(np.log(AL),Y) + np.multiply(np.log(1-AL),1-Y)) / m\n",
        "    \n",
        "    cost = np.squeeze(cost)      # To make sure your cost's shape is what we expect (e.g. this turns [[17]] into 17).\n",
        "    assert(cost.shape == ())\n",
        "    \n",
        "    return cost"
      ],
      "execution_count": 16,
      "outputs": []
    },
    {
      "cell_type": "code",
      "metadata": {
        "id": "Dxyod3VYkbjd",
        "colab_type": "code",
        "colab": {
          "base_uri": "https://localhost:8080/",
          "height": 51
        },
        "outputId": "a5cb5e0a-5831-4927-c7a7-6ce2695194f7"
      },
      "source": [
        "Y, AL = compute_cost_test_case()\n",
        "print(Y.shape,AL.shape)\n",
        "print(\"cost = \" + str(compute_cost(AL, Y)))"
      ],
      "execution_count": 17,
      "outputs": [
        {
          "output_type": "stream",
          "text": [
            "(1, 3) (1, 3)\n",
            "cost = 0.2797765635793423\n"
          ],
          "name": "stdout"
        }
      ]
    },
    {
      "cell_type": "markdown",
      "metadata": {
        "id": "qJLP0rjNkbjf",
        "colab_type": "text"
      },
      "source": [
        "**Expected Output**:\n",
        "\n",
        "**cost**  0.2797765635793422"
      ]
    },
    {
      "cell_type": "markdown",
      "metadata": {
        "id": "eVt1JgyLkbjg",
        "colab_type": "text"
      },
      "source": [
        "## 6 - Backward propagation module\n",
        "\n",
        "For backward propagation, you will implement helper functions for backpropagation. Remember that back propagation is used to calculate the gradient of the loss function with respect to the parameters. \n",
        "\n",
        "Similar to forward propagation, we are going to build the backward propagation in three steps:\n",
        "- LINEAR backward\n",
        "- LINEAR -> ACTIVATION backward where ACTIVATION computes the derivative of either the ReLU or sigmoid activation\n",
        "- [LINEAR -> RELU] $\\times$ (L-1) -> LINEAR -> SIGMOID backward (whole model)"
      ]
    },
    {
      "cell_type": "markdown",
      "metadata": {
        "id": "y4ILCKOhkbjg",
        "colab_type": "text"
      },
      "source": [
        "### 6.1 - Linear backward\n",
        "\n",
        "For layer $l$, the linear part is: $Z^{[l]} = W^{[l]} A^{[l-1]} + b^{[l]}$ (followed by an activation).\n",
        "\n",
        "Suppose you have already calculated the derivative $dZ^{[l]} = \\frac{\\partial \\mathcal{L} }{\\partial Z^{[l]}}$. You want to get $(dW^{[l]}, db^{[l]}, dA^{[l-1]})$.\n",
        "\n",
        "The three outputs $(dW^{[l]}, db^{[l]}, dA^{[l-1]})$ are computed using the input $dZ^{[l]}$.Here are the formulas you need:\n",
        "$$ dW^{[l]} = \\frac{\\partial \\mathcal{J} }{\\partial W^{[l]}} = \\frac{1}{m} dZ^{[l]} A^{[l-1] T} \\tag{8}$$\n",
        "$$ db^{[l]} = \\frac{\\partial \\mathcal{J} }{\\partial b^{[l]}} = \\frac{1}{m} \\sum_{i = 1}^{m} dZ^{[l](i)}\\tag{9}$$\n",
        "$$ dA^{[l-1]} = \\frac{\\partial \\mathcal{L} }{\\partial A^{[l-1]}} = W^{[l] T} dZ^{[l]} \\tag{10}$$\n"
      ]
    },
    {
      "cell_type": "markdown",
      "metadata": {
        "id": "qHqVinabkbjh",
        "colab_type": "text"
      },
      "source": [
        "**Exercise**: Use the 3 formulas above to implement linear_backward()."
      ]
    },
    {
      "cell_type": "code",
      "metadata": {
        "id": "GhsMf-Q3kbji",
        "colab_type": "code",
        "colab": {}
      },
      "source": [
        "# GRADED FUNCTION: linear_backward\n",
        "\n",
        "def linear_backward(dZ, cache):\n",
        "    \"\"\"\n",
        "    Implement the linear portion of backward propagation for a single layer (layer l)\n",
        "\n",
        "    Arguments:\n",
        "    dZ -- Gradient of the cost with respect to the linear output (of current layer l)\n",
        "    cache -- tuple of values (A_prev, W, b) coming from the forward propagation in the current layer\n",
        "\n",
        "    Returns:\n",
        "    dA_prev -- Gradient of the cost with respect to the activation (of the previous layer l-1), same shape as A_prev\n",
        "    dW -- Gradient of the cost with respect to W (current layer l), same shape as W\n",
        "    db -- Gradient of the cost with respect to b (current layer l), same shape as b\n",
        "    \"\"\"\n",
        "    A_prev, W, b = cache # retrieve data from the cache\n",
        "    m = A_prev.shape[1]\n",
        "\n",
        "    ### START CODE HERE ### \n",
        "    dW = np.dot(dZ, A_prev.T)/m\n",
        "    db = np.sum(dZ, axis=1, keepdims=True)/m\n",
        "    dA_prev = np.dot(W.T, dZ)\n",
        "    ### END CODE HERE ###\n",
        "    \n",
        "    assert (dA_prev.shape == A_prev.shape)\n",
        "    assert (dW.shape == W.shape)\n",
        "    assert (db.shape == b.shape)\n",
        "    \n",
        "    return dA_prev, dW, db"
      ],
      "execution_count": 18,
      "outputs": []
    },
    {
      "cell_type": "code",
      "metadata": {
        "id": "iI3D7bskkbjk",
        "colab_type": "code",
        "colab": {
          "base_uri": "https://localhost:8080/",
          "height": 204
        },
        "outputId": "5d56e6b1-2f10-492f-b95a-2e2b9a5e3ae7"
      },
      "source": [
        "\n",
        "dZ, linear_cache = linear_backward_test_case()\n",
        "\n",
        "dA_prev, dW, db = linear_backward(dZ, linear_cache)\n",
        "print (\"dA_prev = \"+ str(dA_prev))\n",
        "print (\"dW = \" + str(dW))\n",
        "print (\"db = \" + str(db))"
      ],
      "execution_count": 19,
      "outputs": [
        {
          "output_type": "stream",
          "text": [
            "dA_prev = [[-1.15171336  0.06718465 -0.3204696   2.09812712]\n",
            " [ 0.60345879 -3.72508701  5.81700741 -3.84326836]\n",
            " [-0.4319552  -1.30987417  1.72354705  0.05070578]\n",
            " [-0.38981415  0.60811244 -1.25938424  1.47191593]\n",
            " [-2.52214926  2.67882552 -0.67947465  1.48119548]]\n",
            "dW = [[ 0.07313866 -0.0976715  -0.87585828  0.73763362  0.00785716]\n",
            " [ 0.85508818  0.37530413 -0.59912655  0.71278189 -0.58931808]\n",
            " [ 0.97913304 -0.24376494 -0.08839671  0.55151192 -0.10290907]]\n",
            "db = [[-0.14713786]\n",
            " [-0.11313155]\n",
            " [-0.13209101]]\n"
          ],
          "name": "stdout"
        }
      ]
    },
    {
      "cell_type": "markdown",
      "metadata": {
        "id": "ap3nH_KQkbjm",
        "colab_type": "text"
      },
      "source": [
        "** Expected Output**:\n",
        "    \n",
        "```\n",
        "dA_prev = \n",
        " [[-1.15171336  0.06718465 -0.3204696   2.09812712]\n",
        " [ 0.60345879 -3.72508701  5.81700741 -3.84326836]\n",
        " [-0.4319552  -1.30987417  1.72354705  0.05070578]\n",
        " [-0.38981415  0.60811244 -1.25938424  1.47191593]\n",
        " [-2.52214926  2.67882552 -0.67947465  1.48119548]]\n",
        "dW = \n",
        " [[ 0.07313866 -0.0976715  -0.87585828  0.73763362  0.00785716]\n",
        " [ 0.85508818  0.37530413 -0.59912655  0.71278189 -0.58931808]\n",
        " [ 0.97913304 -0.24376494 -0.08839671  0.55151192 -0.10290907]]\n",
        "db = \n",
        " [[-0.14713786]\n",
        " [-0.11313155]\n",
        " [-0.13209101]]\n",
        "```"
      ]
    },
    {
      "cell_type": "markdown",
      "metadata": {
        "id": "moyG125Bkbjm",
        "colab_type": "text"
      },
      "source": [
        "### 6.2 - Linear-Activation backward\n",
        "\n",
        "Next, you will create a function that merges the two helper functions: **`linear_backward`** and the backward step for the activation **`linear_activation_backward`**. \n",
        "\n",
        "To help you implement `linear_activation_backward`, we provided two backward functions:\n",
        "- **`sigmoid_backward`**: Implements the backward propagation for SIGMOID unit. You can call it as follows:\n",
        "\n",
        "```python\n",
        "dZ = sigmoid_backward(dA)\n",
        "```\n",
        "\n",
        "- **`relu_backward`**: Implements the backward propagation for RELU unit. You can call it as follows:\n",
        "\n",
        "```python\n",
        "dZ = relu_backward(dA)\n",
        "```\n",
        "\n",
        "If $g(.)$ is the activation function, \n",
        "`sigmoid_backward` and `relu_backward` compute $$dZ^{[l]} = dA^{[l]} * g'(Z^{[l]}) \\tag{11}$$.  \n",
        "\n",
        "**Exercise**: Implement the backpropagation for the *LINEAR->ACTIVATION* layer."
      ]
    },
    {
      "cell_type": "code",
      "metadata": {
        "id": "3KiYIBeUkbjn",
        "colab_type": "code",
        "colab": {}
      },
      "source": [
        "# GRADED FUNCTION: linear_activation_backward\n",
        "\n",
        "def linear_activation_backward(dA, cache, activation):\n",
        "    \"\"\"\n",
        "    Implement the backward propagation for the LINEAR->ACTIVATION layer.\n",
        "    \n",
        "    Arguments:\n",
        "    dA -- post-activation gradient for current layer l \n",
        "    cache -- tuple of values (linear_cache, activation_cache) we store for computing backward propagation efficiently\n",
        "    activation -- the activation to be used in this layer, stored as a text string: \"sigmoid\" or \"relu\"\n",
        "    \n",
        "    Returns:\n",
        "    dA_prev -- Gradient of the cost with respect to the activation (of the previous layer l-1), same shape as A_prev\n",
        "    dW -- Gradient of the cost with respect to W (current layer l), same shape as W\n",
        "    db -- Gradient of the cost with respect to b (current layer l), same shape as b\n",
        "    \"\"\"\n",
        "    linear_cache, activation_cache = cache\n",
        "    \n",
        "    if activation == \"relu\":\n",
        "        ### START CODE HERE ### (≈ 2 lines of code)\n",
        "        dZ = relu_backward(dA, activation_cache)\n",
        "        dA_prev, dW, db = linear_backward(dZ, linear_cache)\n",
        "        ### END CODE HERE ###\n",
        "        \n",
        "    elif activation == \"sigmoid\":\n",
        "        ### START CODE HERE ### (≈ 2 lines of code)\n",
        "        dZ = sigmoid_backward(dA, activation_cache)\n",
        "        dA_prev, dW, db = linear_backward(dZ, linear_cache)\n",
        "        ### END CODE HERE ###\n",
        "    \n",
        "    return dA_prev, dW, db"
      ],
      "execution_count": 20,
      "outputs": []
    },
    {
      "cell_type": "code",
      "metadata": {
        "id": "1a-6tuCtkbjp",
        "colab_type": "code",
        "colab": {
          "base_uri": "https://localhost:8080/",
          "height": 238
        },
        "outputId": "b5d1bd2e-4e46-46d2-a262-0573b1fea2ee"
      },
      "source": [
        "dAL, linear_activation_cache = linear_activation_backward_test_case()\n",
        "\n",
        "dA_prev, dW, db = linear_activation_backward(dAL, linear_activation_cache, activation = \"sigmoid\")\n",
        "print (\"sigmoid:\")\n",
        "print (\"dA_prev = \"+ str(dA_prev))\n",
        "print (\"dW = \" + str(dW))\n",
        "print (\"db = \" + str(db) + \"\\n\")\n",
        "\n",
        "dA_prev, dW, db = linear_activation_backward(dAL, linear_activation_cache, activation = \"relu\")\n",
        "print (\"relu:\")\n",
        "print (\"dA_prev = \"+ str(dA_prev))\n",
        "print (\"dW = \" + str(dW))\n",
        "print (\"db = \" + str(db))"
      ],
      "execution_count": 21,
      "outputs": [
        {
          "output_type": "stream",
          "text": [
            "sigmoid:\n",
            "dA_prev = [[ 0.11017994  0.01105339]\n",
            " [ 0.09466817  0.00949723]\n",
            " [-0.05743092 -0.00576154]]\n",
            "dW = [[ 0.10266786  0.09778551 -0.01968084]]\n",
            "db = [[-0.05729622]]\n",
            "\n",
            "relu:\n",
            "dA_prev = [[ 0.44090989  0.        ]\n",
            " [ 0.37883606  0.        ]\n",
            " [-0.2298228   0.        ]]\n",
            "dW = [[ 0.44513824  0.37371418 -0.10478989]]\n",
            "db = [[-0.20837892]]\n"
          ],
          "name": "stdout"
        }
      ]
    },
    {
      "cell_type": "markdown",
      "metadata": {
        "id": "hlpy_vKekbjr",
        "colab_type": "text"
      },
      "source": [
        "**Expected output with sigmoid:**\n",
        "\n",
        "<table style=\"width:100%\">\n",
        "    <tr>\n",
        "    <td > dA_prev </td> \n",
        "           <td >[[ 0.11017994  0.01105339]\n",
        " [ 0.09466817  0.00949723]\n",
        " [-0.05743092 -0.00576154]] </td> \n",
        "\n",
        "  </tr> \n",
        "  \n",
        "    <tr>\n",
        "  <td > dW </td> \n",
        "           <td > [[ 0.10266786  0.09778551 -0.01968084]] </td> \n",
        "  </tr> \n",
        "  \n",
        "  <tr>\n",
        "    <td > db </td> \n",
        "           <td > [[-0.05729622]] </td> \n",
        "  </tr> \n",
        "</table>\n",
        "\n"
      ]
    },
    {
      "cell_type": "markdown",
      "metadata": {
        "id": "kj0I_Kxzkbjr",
        "colab_type": "text"
      },
      "source": [
        "**Expected output with relu:**\n",
        "\n",
        " <td > dA_prev </td> \n",
        "           <td > [[ 0.44090989  0.        ]\n",
        "            [ 0.37883606  0.        ]\n",
        "            [-0.2298228   0.        ]] </td> \n",
        "\n",
        "\n",
        "\n",
        " <td > dW </td> \n",
        "           <td > [[ 0.44513824  0.37371418 -0.10478989]] </td> \n",
        " \n",
        "  \n",
        " db </td> \n",
        "           <td > [[-0.20837892]] </td> \n",
        "  </tr> \n",
        "\n",
        "\n"
      ]
    },
    {
      "cell_type": "markdown",
      "metadata": {
        "id": "mJ2YkBaqkbjs",
        "colab_type": "text"
      },
      "source": [
        "### 6.3 - L-Model Backward \n",
        "\n",
        "Now you will implement the backward function for the whole network. Recall that when you implemented the `L_model_forward` function, at each iteration, you stored a cache which contains (X,W,b, and z). In the back propagation module, you will use those variables to compute the gradients. Therefore, in the `L_model_backward` function, you will iterate through all the hidden layers backward, starting from layer $L$. On each step, you will use the cached values for layer $l$ to backpropagate through layer $l$. \n",
        "\n",
        "**Initializing backpropagation**:\n",
        "To backpropagate through this network, we know that the output is, \n",
        "$A^{[L]} = \\sigma(Z^{[L]})$. Your code thus needs to compute `dAL` $= \\frac{\\partial \\mathcal{L}}{\\partial A^{[L]}}$.\n",
        "To do so, use this formula (derived using calculus which you don't need in-depth knowledge of):\n",
        "```python\n",
        "dAL = - (np.divide(Y, AL) - np.divide(1 - Y, 1 - AL)) # derivative of cost with respect to AL\n",
        "```\n",
        "\n",
        "You can then use this post-activation gradient `dAL` to keep going backward. As seen in Figure 5, you can now feed in `dAL` into the LINEAR->SIGMOID backward function you implemented (which will use the cached values stored by the L_model_forward function). After that, you will have to use a `for` loop to iterate through all the other layers using the LINEAR->RELU backward function. You should store each dA, dW, and db in the grads dictionary. To do so, use this formula : \n",
        "\n",
        "$$grads[\"dW\" + str(l)] = dW^{[l]}\\tag{15} $$\n",
        "\n",
        "For example, for $l=3$ this would store $dW^{[l]}$ in `grads[\"dW3\"]`.\n",
        "\n",
        "**Exercise**: Implement backpropagation for the *[LINEAR->RELU] $\\times$ (L-1) -> LINEAR -> SIGMOID* model."
      ]
    },
    {
      "cell_type": "code",
      "metadata": {
        "id": "ggbt1Td3kbjs",
        "colab_type": "code",
        "colab": {}
      },
      "source": [
        "# GRADED FUNCTION: L_model_backward\n",
        "\n",
        "def L_model_backward(AL, Y, caches):\n",
        "    \"\"\"\n",
        "    Implement the backward propagation for the [LINEAR->RELU] * (L-1) -> LINEAR -> SIGMOID group\n",
        "    \n",
        "    Arguments:\n",
        "    AL -- probability vector, output of the forward propagation (L_model_forward())\n",
        "    Y -- true \"label\" vector (containing 0 if non-cat, 1 if cat)\n",
        "    caches -- list of caches containing:\n",
        "                every cache of linear_activation_forward() with \"relu\" (it's caches[l], for l in range(L-1) i.e l = 0...L-2)\n",
        "                the cache of linear_activation_forward() with \"sigmoid\" (it's caches[L-1])\n",
        "    \n",
        "    Returns:\n",
        "    grads -- A dictionary with the gradients\n",
        "             grads[\"dA\" + str(l)] = ... \n",
        "             grads[\"dW\" + str(l)] = ...\n",
        "             grads[\"db\" + str(l)] = ... \n",
        "    \"\"\"\n",
        "    grads = {}\n",
        "    L = len(caches) # the number of layers\n",
        "    m = AL.shape[1]\n",
        "    Y = Y.reshape(AL.shape) # after this line, Y is the same shape as AL\n",
        "    \n",
        "    # Initializing the backpropagation by computing the derivative of the Loss Function\n",
        "    dAL = - (np.divide(Y, AL) - np.divide(1 - Y, 1 - AL)) # derivative of cost with respect to AL\n",
        "    \n",
        "    # Lth layer (SIGMOID -> LINEAR) gradients. Inputs: \"dAL, current_cache\". Outputs: \"grads[\"dAL-1\"], grads[\"dWL\"], grads[\"dbL\"]\n",
        "    current_cache = caches[L-1]\n",
        "    ### START CODE HERE ### \n",
        "    grads[\"dA\" + str(L - 1)], grads[\"dW\" + str(L)], grads[\"db\" + str(L)] = linear_activation_backward(dAL, current_cache, 'sigmoid')\n",
        "    ### END CODE HERE ###\n",
        "    \n",
        "    # Loop from l=L-2 to l=0\n",
        "    for l in reversed(range(L-1)):\n",
        "        # lth layer: (RELU -> LINEAR) gradients.\n",
        "        # Inputs: \"grads[\"dA\" + str(l + 1)], current_cache\". Outputs: \"grads[\"dA\" + str(l)] , grads[\"dW\" + str(l + 1)] , grads[\"db\" + str(l + 1)] \n",
        "        current_cache = caches[l]\n",
        "        ### START CODE HERE ### (approx. 5 lines)\n",
        "        dA_prev_temp, dW_temp, db_temp = linear_activation_backward(grads[\"dA\" + str(l + 1)], current_cache, 'relu')\n",
        "        grads[\"dA\" + str(l)] = dA_prev_temp\n",
        "        grads[\"dW\" + str(l + 1)] = dW_temp\n",
        "        grads[\"db\" + str(l + 1)] = db_temp\n",
        "        ### END CODE HERE ###\n",
        "\n",
        "    return grads"
      ],
      "execution_count": 22,
      "outputs": []
    },
    {
      "cell_type": "code",
      "metadata": {
        "id": "9AaexR8zkbju",
        "colab_type": "code",
        "colab": {
          "base_uri": "https://localhost:8080/",
          "height": 170
        },
        "outputId": "8f58aab8-c337-431f-8c45-24733a4815f7"
      },
      "source": [
        "AL, Y_assess, caches = L_model_backward_test_case()\n",
        "grads = L_model_backward(AL, Y_assess, caches)\n",
        "print_grads(grads)"
      ],
      "execution_count": 23,
      "outputs": [
        {
          "output_type": "stream",
          "text": [
            "dW1 = [[0.41010002 0.07807203 0.13798444 0.10502167]\n",
            " [0.         0.         0.         0.        ]\n",
            " [0.05283652 0.01005865 0.01777766 0.0135308 ]]\n",
            "db1 = [[-0.22007063]\n",
            " [ 0.        ]\n",
            " [-0.02835349]]\n",
            "dA1 = [[ 0.12913162 -0.44014127]\n",
            " [-0.14175655  0.48317296]\n",
            " [ 0.01663708 -0.05670698]]\n"
          ],
          "name": "stdout"
        }
      ]
    },
    {
      "cell_type": "markdown",
      "metadata": {
        "id": "WZRjP6cykbjw",
        "colab_type": "text"
      },
      "source": [
        "**Expected Output**\n",
        "\n",
        "``` \n",
        "dW1|  [[ 0.41010002  0.07807203  0.13798444  0.10502167],[ 0.          0.          0.          0.        ],[ 0.05283652  0.01005865  0.01777766  0.0135308 ]] \n",
        "```\n",
        "\n",
        "```\n",
        "db1 | [[-0.22007063] [ 0.  ] [-0.02835349]]\n",
        " ```\n",
        "  \n",
        "  <tr>\n",
        "  <td > dA1 </td> \n",
        "           <td > [[ 0.12913162 -0.44014127]\n",
        " [-0.14175655  0.48317296]\n",
        " [ 0.01663708 -0.05670698]] </td> \n",
        "\n",
        "  </tr> \n",
        "</table>\n",
        "\n"
      ]
    },
    {
      "cell_type": "markdown",
      "metadata": {
        "id": "nuF_Lq7Ekbjw",
        "colab_type": "text"
      },
      "source": [
        "### 6.4 - Update Parameters\n",
        "\n",
        "In this section you will update the parameters of the model, using gradient descent: \n",
        "\n",
        "$$ W^{[l]} = W^{[l]} - \\alpha \\text{ } dW^{[l]} \\tag{16}$$\n",
        "$$ b^{[l]} = b^{[l]} - \\alpha \\text{ } db^{[l]} \\tag{17}$$\n",
        "\n",
        "where $\\alpha$ is the learning rate. After computing the updated parameters, store them in the parameters dictionary. "
      ]
    },
    {
      "cell_type": "code",
      "metadata": {
        "id": "9E9y9E1bkbjx",
        "colab_type": "code",
        "colab": {}
      },
      "source": [
        "# Graded FUNCTION: update_parameters\n",
        "def update_parameters(parameters, grads, learning_rate):\n",
        "    \"\"\"\n",
        "    Update parameters using gradient descent\n",
        "    \n",
        "    Arguments:\n",
        "    parameters -- python dictionary containing your parameters \n",
        "    grads -- python dictionary containing your gradients, output of L_model_backward\n",
        "    \n",
        "    Returns:\n",
        "    parameters -- python dictionary containing your updated parameters \n",
        "                  parameters[\"W\" + str(l)] = ... \n",
        "                  parameters[\"b\" + str(l)] = ...\n",
        "    \"\"\"\n",
        "    \n",
        "    L = len(parameters) // 2 # number of layers in the neural network\n",
        "\n",
        "    for l in range(L):\n",
        "      ### START CODE HERE ###\n",
        "        parameters[\"W\" + str(l+1)] = parameters[\"W\" + str(l+1)] - learning_rate*grads[\"dW\" + str(l+1)]\n",
        "        parameters[\"b\" + str(l+1)] = parameters[\"b\" + str(l+1)] - learning_rate*grads[\"db\" + str(l+1)]\n",
        "      ### END CODE HERE ###  \n",
        "    return parameters"
      ],
      "execution_count": 26,
      "outputs": []
    },
    {
      "cell_type": "code",
      "metadata": {
        "id": "JCmm1iVrkbjy",
        "colab_type": "code",
        "colab": {
          "base_uri": "https://localhost:8080/",
          "height": 153
        },
        "outputId": "2559b240-dd3e-475a-fb08-70e4c489f891"
      },
      "source": [
        "parameters, grads = update_parameters_test_case()\n",
        "\n",
        "parameters = update_parameters(parameters, grads, 0.1)\n",
        "\n",
        "print (\"W1 = \"+ str(parameters[\"W1\"]))\n",
        "print (\"b1 = \"+ str(parameters[\"b1\"]))\n",
        "print (\"W2 = \"+ str(parameters[\"W2\"]))\n",
        "print (\"b2 = \"+ str(parameters[\"b2\"]))"
      ],
      "execution_count": 27,
      "outputs": [
        {
          "output_type": "stream",
          "text": [
            "W1 = [[-0.59562069 -0.09991781 -2.14584584  1.82662008]\n",
            " [-1.76569676 -0.80627147  0.51115557 -1.18258802]\n",
            " [-1.0535704  -0.86128581  0.68284052  2.20374577]]\n",
            "b1 = [[-0.04659241]\n",
            " [-1.28888275]\n",
            " [ 0.53405496]]\n",
            "W2 = [[-0.55569196  0.0354055   1.32964895]]\n",
            "b2 = [[-0.84610769]]\n"
          ],
          "name": "stdout"
        }
      ]
    },
    {
      "cell_type": "markdown",
      "metadata": {
        "id": "S9GIj84Ckbj0",
        "colab_type": "text"
      },
      "source": [
        "**Expected Output**:\n",
        "\n",
        "    W1 [[-0.59562069 -0.09991781 -2.14584584  1.82662008]\n",
        "        [-1.76569676 -0.80627147  0.51115557 -1.18258802]\n",
        "        [-1.0535704  -0.86128581  0.68284052  2.20374577]] \n",
        "    b1. [[-0.04659241][ -1.28888275] [ 0.53405496]] \n",
        "     \n",
        "    W2  [[-0.55569196  0.0354055   1.32964895]]\n",
        "    \n",
        "    b2  [[-0.84610769]]\n",
        "\n"
      ]
    },
    {
      "cell_type": "markdown",
      "metadata": {
        "id": "SpCfoRoI8Uc3",
        "colab_type": "text"
      },
      "source": [
        "## 7 - Putting Together the Model\n",
        "\n",
        "You now have all the functions required for building a deep neural network! We will put all these together to build an L-layer neural network to see how the network works on the dog/not dog data."
      ]
    },
    {
      "cell_type": "code",
      "metadata": {
        "id": "-XnkWKsz8rp4",
        "colab_type": "code",
        "colab": {}
      },
      "source": [
        "def L_layer_model(X, Y, layers_dims, learning_rate = 0.0075, num_iterations = 3000, print_cost=False):\n",
        "    \"\"\"\n",
        "    Implements a L-layer neural network: [LINEAR->RELU]*(L-1)->LINEAR->SIGMOID.\n",
        "    \n",
        "    Arguments:\n",
        "    X -- data, numpy array of shape (num_px * num_px * 3, number of examples)\n",
        "    Y -- true \"label\" vector (containing 0 if cat, 1 if non-cat), of shape (1, number of examples)\n",
        "    layers_dims -- list containing the input size and each layer size, of length (number of layers + 1).\n",
        "    learning_rate -- learning rate of the gradient descent update rule\n",
        "    num_iterations -- number of iterations of the optimization loop\n",
        "    print_cost -- if True, it prints the cost every 100 steps\n",
        "    \n",
        "    Returns:\n",
        "    parameters -- parameters learnt by the model. They can then be used to predict.\n",
        "    \"\"\"\n",
        "\n",
        "    np.random.seed(1)\n",
        "    costs = []                         # keep track of cost\n",
        "    \n",
        "    # Parameters initialization. \n",
        "    parameters = initialize_parameters_deep(layers_dims)\n",
        "\n",
        "    # Loop (gradient descent)\n",
        "    for i in range(0, num_iterations):\n",
        "\n",
        "        # Forward propagation: [LINEAR -> RELU]*(L-1) -> LINEAR -> SIGMOID.\n",
        "        AL, caches = L_model_forward(X, parameters)\n",
        "        \n",
        "        # Compute cost.\n",
        "        cost = compute_cost(AL, Y)\n",
        "    \n",
        "        # Backward propagation.\n",
        "        grads = L_model_backward(AL, Y, caches)\n",
        " \n",
        "        # Update parameters.\n",
        "        parameters = update_parameters(parameters, grads, learning_rate)\n",
        "                \n",
        "        # Print the cost every 100 training example\n",
        "        if print_cost and i % 100 == 0:\n",
        "            print (\"Cost after iteration %i: %f\" %(i, cost))\n",
        "        if print_cost and i % 100 == 0:\n",
        "            costs.append(cost)\n",
        "            \n",
        "    # plot the cost\n",
        "    plt.plot(np.squeeze(costs))\n",
        "    plt.ylabel('cost')\n",
        "    plt.xlabel('iterations (per hundreds)')\n",
        "    plt.title(\"Learning rate =\" + str(learning_rate))\n",
        "    plt.show()\n",
        "    \n",
        "    return parameters"
      ],
      "execution_count": 28,
      "outputs": []
    },
    {
      "cell_type": "markdown",
      "metadata": {
        "id": "GWnsBPeL-CXZ",
        "colab_type": "text"
      },
      "source": [
        "You will now train the model as a 4-layer neural network.\n",
        "Run the cell below to train your model. The cost should decrease on every iteration. It may take up to 5 minutes to run 4000 iterations. Check if the \"Cost after iteration 0\" matches the expected output below, if not click on the square (⬛) on the upper bar of the notebook to stop the cell and try to find your error.\n",
        "\n",
        "This would be a good time to go into the Runtime menu and change your Runtime Type to use the GPUs. "
      ]
    },
    {
      "cell_type": "code",
      "metadata": {
        "id": "OcCeE3bN91xQ",
        "colab_type": "code",
        "colab": {
          "base_uri": "https://localhost:8080/",
          "height": 992
        },
        "outputId": "0bdb6b96-1bb2-4e5b-cef9-e07e6bd6c3d8"
      },
      "source": [
        "# Set the dimensions of each layer\n",
        "layers_dims = [3072, 20, 7, 5, 1] #  4-layer model\n",
        "\n",
        "parameters = L_layer_model(train_set_x, y_train, layers_dims,learning_rate = 0.01, num_iterations = 4001, print_cost = True)"
      ],
      "execution_count": 29,
      "outputs": [
        {
          "output_type": "stream",
          "text": [
            "Cost after iteration 0: 0.693020\n",
            "Cost after iteration 100: 0.691973\n",
            "Cost after iteration 200: 0.690741\n",
            "Cost after iteration 300: 0.688722\n",
            "Cost after iteration 400: 0.684973\n",
            "Cost after iteration 500: 0.677344\n",
            "Cost after iteration 600: 0.662425\n",
            "Cost after iteration 700: 0.644055\n",
            "Cost after iteration 800: 0.630802\n",
            "Cost after iteration 900: 0.621336\n",
            "Cost after iteration 1000: 0.613960\n",
            "Cost after iteration 1100: 0.607831\n",
            "Cost after iteration 1200: 0.602549\n",
            "Cost after iteration 1300: 0.597851\n",
            "Cost after iteration 1400: 0.593460\n",
            "Cost after iteration 1500: 0.589247\n",
            "Cost after iteration 1600: 0.585065\n",
            "Cost after iteration 1700: 0.580849\n",
            "Cost after iteration 1800: 0.576690\n",
            "Cost after iteration 1900: 0.572485\n",
            "Cost after iteration 2000: 0.568263\n",
            "Cost after iteration 2100: 0.563878\n",
            "Cost after iteration 2200: 0.559318\n",
            "Cost after iteration 2300: 0.554414\n",
            "Cost after iteration 2400: 0.549071\n",
            "Cost after iteration 2500: 0.543500\n",
            "Cost after iteration 2600: 0.537319\n",
            "Cost after iteration 2700: 0.530340\n",
            "Cost after iteration 2800: 0.522703\n",
            "Cost after iteration 2900: 0.514970\n",
            "Cost after iteration 3000: 0.506706\n",
            "Cost after iteration 3100: 0.497869\n",
            "Cost after iteration 3200: 0.488117\n",
            "Cost after iteration 3300: 0.477763\n",
            "Cost after iteration 3400: 0.466966\n",
            "Cost after iteration 3500: 0.456301\n",
            "Cost after iteration 3600: 0.445569\n",
            "Cost after iteration 3700: 0.434052\n",
            "Cost after iteration 3800: 0.422415\n",
            "Cost after iteration 3900: 0.410350\n",
            "Cost after iteration 4000: 0.397967\n"
          ],
          "name": "stdout"
        },
        {
          "output_type": "display_data",
          "data": {
            "image/png": "[encoded data removed]",
            "text/plain": [
              "<Figure size 360x288 with 1 Axes>"
            ]
          },
          "metadata": {
            "tags": [],
            "needs_background": "light"
          }
        }
      ]
    },
    {
      "cell_type": "markdown",
      "metadata": {
        "id": "D5clzYGrwKbe",
        "colab_type": "text"
      },
      "source": [
        "Cost of first iteration 0 0.693020"
      ]
    },
    {
      "cell_type": "markdown",
      "metadata": {
        "id": "9RlGn3r9-L0m",
        "colab_type": "text"
      },
      "source": [
        "##Question Part 7\n",
        "Comment on the cost versus iterations curve, is it smooth or noisy? Explain the shape of the curve, why does it flatten out, then go down more sharply?"
      ]
    },
    {
      "cell_type": "markdown",
      "metadata": {
        "id": "pmPhQUfvSCSi",
        "colab_type": "text"
      },
      "source": [
        "The cost versus iterations curve seems smooth. The curve shows the negative relation between cost and iterations. It(cost) goes down when iterations increase. It is kind of flat when the iteration is low and the slope increases little bit and it gets flatten again soon, and lastly the slope increases little bit more as the iterations get bigger."
      ]
    },
    {
      "cell_type": "markdown",
      "metadata": {
        "id": "sXb6Qscukbj0",
        "colab_type": "text"
      },
      "source": [
        "\n",
        "## 8 - Testing the network on dog/not dog case\n",
        "\n",
        "Congrats on implementing all the functions required for building a deep neural network! We will put all these together to build an L-layer neural network to see how the network works on the dog/not dog data.\n"
      ]
    },
    {
      "cell_type": "code",
      "metadata": {
        "id": "Di_8YaZkMEcc",
        "colab_type": "code",
        "colab": {}
      },
      "source": [
        "def predict(X, y, parameters):\n",
        "    \"\"\"\n",
        "    This function is used to predict the results of a  L-layer neural network.\n",
        "    \n",
        "    Arguments:\n",
        "    X -- data set of examples you would like to label\n",
        "    parameters -- parameters of the trained model\n",
        "    \n",
        "    Returns:\n",
        "    p -- predictions for the given dataset X\n",
        "    \"\"\"\n",
        "    \n",
        "    m = X.shape[1]\n",
        "    n = len(parameters) // 2 # number of layers in the neural network\n",
        "    p = np.zeros((1,m))\n",
        "    \n",
        "    # Forward propagation\n",
        "    probas, caches = L_model_forward(X, parameters)\n",
        "\n",
        "    \n",
        "    # convert probas to 0/1 predictions\n",
        "    for i in range(0, probas.shape[1]):\n",
        "        if probas[0,i] > 0.5:\n",
        "            p[0,i] = 1\n",
        "        else:\n",
        "            p[0,i] = 0\n",
        "    \n",
        "    #print results\n",
        "    #print (\"predictions: \" + str(p))\n",
        "    #print (\"true labels: \" + str(y))\n",
        "    print(\"Accuracy: \"  + str(np.sum((p == y)/m)))\n",
        "        \n",
        "    return p"
      ],
      "execution_count": 31,
      "outputs": []
    },
    {
      "cell_type": "code",
      "metadata": {
        "id": "nHa82zcdlHVx",
        "colab_type": "code",
        "colab": {
          "base_uri": "https://localhost:8080/",
          "height": 51
        },
        "outputId": "fc7a57bc-9dfd-495d-9f55-c4d61ea42a46"
      },
      "source": [
        "ptrain = predict(train_set_x, y_train,parameters)\n",
        "ptest = predict(test_set_x, y_test,parameters)"
      ],
      "execution_count": 32,
      "outputs": [
        {
          "output_type": "stream",
          "text": [
            "Accuracy: 0.8515000000000004\n",
            "Accuracy: 0.665\n"
          ],
          "name": "stdout"
        }
      ]
    },
    {
      "cell_type": "markdown",
      "metadata": {
        "id": "Xikm_0ctlGpU",
        "colab_type": "text"
      },
      "source": [
        "##Question Part 8: \n",
        "Explain what the test and training set accuracy values shown above are telling you about your model and parameter selection. What actions should you take in part 2 of this assignment to improve the performace of your model?\n",
        "\n",
        "Define your answer in terms of bias and variance, overfitting and underfitting, model complexity, amount of data, etc."
      ]
    },
    {
      "cell_type": "markdown",
      "metadata": {
        "id": "7bP5x-0uVoJC",
        "colab_type": "text"
      },
      "source": [
        "The accuracy of train data is high enough but the accuracy of test dataset is very low. Which means it has high variance. Therefore, we need to increase the accuracy of it, and reduce the variance.\n",
        "We can say it is overfitted, so what we can do is reduce the model complexity. I will reduce the number of layers and try a simpler model, and chsnging the size of mini batch also help to improve the prediction on the test data."
      ]
    },
    {
      "cell_type": "code",
      "metadata": {
        "id": "V2wQEwfEETAj",
        "colab_type": "code",
        "colab": {
          "base_uri": "https://localhost:8080/",
          "height": 992
        },
        "outputId": "90c1a9de-8208-4d5b-c6de-c9e36e11368d"
      },
      "source": [
        "# Set the dimensions of each layer\n",
        "layers_dims = [3072, 20, 2, 1] #  4-layer model\n",
        "\n",
        "parameters = L_layer_model(train_set_x, y_train, layers_dims,learning_rate = 0.01, num_iterations = 4001, print_cost = True)"
      ],
      "execution_count": 81,
      "outputs": [
        {
          "output_type": "stream",
          "text": [
            "Cost after iteration 0: 0.694006\n",
            "Cost after iteration 100: 0.691840\n",
            "Cost after iteration 200: 0.688127\n",
            "Cost after iteration 300: 0.673542\n",
            "Cost after iteration 400: 0.641251\n",
            "Cost after iteration 500: 0.611596\n",
            "Cost after iteration 600: 0.587957\n",
            "Cost after iteration 700: 0.569967\n",
            "Cost after iteration 800: 0.556258\n",
            "Cost after iteration 900: 0.544442\n",
            "Cost after iteration 1000: 0.534652\n",
            "Cost after iteration 1100: 0.525668\n",
            "Cost after iteration 1200: 0.517383\n",
            "Cost after iteration 1300: 0.509450\n",
            "Cost after iteration 1400: 0.501352\n",
            "Cost after iteration 1500: 0.493322\n",
            "Cost after iteration 1600: 0.485510\n",
            "Cost after iteration 1700: 0.477802\n",
            "Cost after iteration 1800: 0.469944\n",
            "Cost after iteration 1900: 0.462005\n",
            "Cost after iteration 2000: 0.453948\n",
            "Cost after iteration 2100: 0.445246\n",
            "Cost after iteration 2200: 0.435975\n",
            "Cost after iteration 2300: 0.426500\n",
            "Cost after iteration 2400: 0.416962\n",
            "Cost after iteration 2500: 0.407348\n",
            "Cost after iteration 2600: 0.397603\n",
            "Cost after iteration 2700: 0.387872\n",
            "Cost after iteration 2800: 0.377932\n",
            "Cost after iteration 2900: 0.367881\n",
            "Cost after iteration 3000: 0.357715\n",
            "Cost after iteration 3100: 0.347479\n",
            "Cost after iteration 3200: 0.337264\n",
            "Cost after iteration 3300: 0.326837\n",
            "Cost after iteration 3400: 0.316219\n",
            "Cost after iteration 3500: 0.305509\n",
            "Cost after iteration 3600: 0.293157\n",
            "Cost after iteration 3700: 0.280078\n",
            "Cost after iteration 3800: 0.267576\n",
            "Cost after iteration 3900: 0.256275\n",
            "Cost after iteration 4000: 0.246006\n"
          ],
          "name": "stdout"
        },
        {
          "output_type": "display_data",
          "data": {
            "image/png": "[encoded data removed]",
            "text/plain": [
              "<Figure size 360x288 with 1 Axes>"
            ]
          },
          "metadata": {
            "tags": [],
            "needs_background": "light"
          }
        }
      ]
    },
    {
      "cell_type": "code",
      "metadata": {
        "id": "hbgCNqrEREFC",
        "colab_type": "code",
        "colab": {
          "base_uri": "https://localhost:8080/",
          "height": 51
        },
        "outputId": "0a0a9bcb-dcc0-425a-d46c-8f350694881a"
      },
      "source": [
        "ptrain = predict(train_set_x, y_train,parameters)\n",
        "ptest = predict(test_set_x, y_test,parameters)"
      ],
      "execution_count": 83,
      "outputs": [
        {
          "output_type": "stream",
          "text": [
            "Accuracy: 0.9155000000000004\n",
            "Accuracy: 0.72\n"
          ],
          "name": "stdout"
        }
      ]
    },
    {
      "cell_type": "code",
      "metadata": {
        "id": "h5IgqBLuhWaR",
        "colab_type": "code",
        "colab": {}
      },
      "source": [
        ""
      ],
      "execution_count": null,
      "outputs": []
    }
  ]
}