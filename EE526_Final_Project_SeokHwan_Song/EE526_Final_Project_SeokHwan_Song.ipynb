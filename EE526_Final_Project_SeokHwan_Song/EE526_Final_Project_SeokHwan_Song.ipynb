{
  "nbformat": 4,
  "nbformat_minor": 0,
  "metadata": {
    "kernelspec": {
      "display_name": "Python 3",
      "language": "python",
      "name": "python3"
    },
    "language_info": {
      "codemirror_mode": {
        "name": "ipython",
        "version": 3
      },
      "file_extension": ".py",
      "mimetype": "text/x-python",
      "name": "python",
      "nbconvert_exporter": "python",
      "pygments_lexer": "ipython3",
      "version": "3.7.3"
    },
    "colab": {
      "name": "EE526_Final_Project_SeokHwan_Song.ipynb",
      "provenance": []
    }
  },
  "cells": [
    {
      "cell_type": "code",
      "metadata": {
        "id": "jln5_gk80rIP"
      },
      "source": [
        "# Data Preprocess & Setup\n",
        "import torch\n",
        "import pandas as pd\n",
        "import numpy as np\n",
        "\n",
        "# Model\n",
        "from torch.utils.data import DataLoader,Dataset\n",
        "from torch.utils.data import DataLoader\n",
        "from torch import optim,nn\n",
        "import torch.nn.functional as F\n",
        "\n",
        "# Timer\n",
        "import time\n",
        "\n",
        "# Evaluation\n",
        "import matplotlib.pyplot as plt\n",
        "import sklearn.metrics as skmetrics\n",
        "import seaborn as sns\n",
        "from sklearn.metrics import classification_report\n",
        "\n",
        "# installed\n",
        "from torchvision import models,transforms"
      ],
      "execution_count": null,
      "outputs": []
    },
    {
      "cell_type": "markdown",
      "metadata": {
        "id": "IfSCS7U121lv"
      },
      "source": [
        "## Setup\n",
        "### Data Preprocessing "
      ]
    },
    {
      "cell_type": "code",
      "metadata": {
        "id": "KYwagH6f0rIP"
      },
      "source": [
        "# Device\n",
        "if torch.cuda.is_available():\n",
        "    device = torch.device('cuda:0')\n",
        "else:\n",
        "    device = torch.device('cpu')\n",
        "    \n",
        "# Read data\n",
        "df = pd.read_csv('sign_data/sign_mnist_train/sign_mnist_train.csv')"
      ],
      "execution_count": null,
      "outputs": []
    },
    {
      "cell_type": "code",
      "metadata": {
        "colab": {
          "base_uri": "https://localhost:8080/"
        },
        "id": "SDkupW840rIP",
        "outputId": "31cdaa8f-8ca0-4976-8f79-72c06e08fa4b"
      },
      "source": [
        "df['label'].value_counts()"
      ],
      "execution_count": null,
      "outputs": [
        {
          "output_type": "execute_result",
          "data": {
            "text/plain": [
              "17    1294\n",
              "16    1279\n",
              "11    1241\n",
              "22    1225\n",
              "5     1204\n",
              "18    1199\n",
              "14    1196\n",
              "3     1196\n",
              "19    1186\n",
              "23    1164\n",
              "8     1162\n",
              "20    1161\n",
              "13    1151\n",
              "2     1144\n",
              "0     1126\n",
              "24    1118\n",
              "10    1114\n",
              "6     1090\n",
              "15    1088\n",
              "21    1082\n",
              "12    1055\n",
              "7     1013\n",
              "1     1010\n",
              "4      957\n",
              "Name: label, dtype: int64"
            ]
          },
          "metadata": {
            "tags": []
          },
          "execution_count": 403
        }
      ]
    },
    {
      "cell_type": "code",
      "metadata": {
        "id": "79_x35L50rIP"
      },
      "source": [
        "# classes\n",
        "classes = {0: 'A', 1: 'B', 2: 'C', 3: 'D', 4: 'E', 5: 'F', \n",
        "         6: 'G', 7: 'H', 8: 'I', 10: 'K', 11: 'L', 12: 'M', \n",
        "         13: 'N', 14: 'O', 15: 'P', 16: 'Q', 17: 'R', 18: 'S', \n",
        "         19: 'T', 20: 'U', 21: 'V', 22: 'W', 23: 'X', 24: 'Y' }"
      ],
      "execution_count": null,
      "outputs": []
    },
    {
      "cell_type": "markdown",
      "metadata": {
        "id": "fA5Bht7Q3SoS"
      },
      "source": [
        "### Splitting Data\n"
      ]
    },
    {
      "cell_type": "code",
      "metadata": {
        "id": "UazJPvlV0rIP"
      },
      "source": [
        "# Training and Testing dataset\n",
        "train = pd.read_csv('sign_data/sign_mnist_train/sign_mnist_train.csv')\n",
        "test = pd.read_csv('sign_data/sign_mnist_test/sign_mnist_test.csv')"
      ],
      "execution_count": null,
      "outputs": []
    },
    {
      "cell_type": "code",
      "metadata": {
        "id": "8YfrmVR3gRQ1"
      },
      "source": [
        "# Replace lables to actual alphabets\n",
        "\n",
        "train = train.replace({'label': classes})\n",
        "test = test.replace({'label': classes})"
      ],
      "execution_count": null,
      "outputs": []
    },
    {
      "cell_type": "markdown",
      "metadata": {
        "id": "KUQAqmZK3Ymc"
      },
      "source": [
        "### Transforming"
      ]
    },
    {
      "cell_type": "code",
      "metadata": {
        "id": "ZLMyrru70rIQ"
      },
      "source": [
        "# Transforming\n",
        "\n",
        "mean = (0.5, 0.5, 0.5)\n",
        "std = (0.5, 0.5, 0.5)\n",
        "\n",
        "# Transformation of train images\n",
        "\n",
        "train_transform = transforms.Compose([\n",
        "    transforms.RandomHorizontalFlip(),\n",
        "    transforms.ColorJitter(brightness=0.1, contrast=0.1, hue=0.1),\n",
        "    transforms.ToTensor(), \n",
        "    transforms.Normalize(mean, std)])\n",
        "\n",
        "# Transformation of test images\n",
        "\n",
        "test_transform = transforms.Compose([\n",
        "    transforms.ToTensor(),\n",
        "    transforms.Normalize(mean, std)\n",
        "])"
      ],
      "execution_count": null,
      "outputs": []
    },
    {
      "cell_type": "markdown",
      "metadata": {
        "id": "TryPL2xq3ffG"
      },
      "source": [
        "### Data Loader\n",
        "\n",
        "#### https://pytorch.org/tutorials/beginner/data_loading_tutorial.html"
      ]
    },
    {
      "cell_type": "code",
      "metadata": {
        "id": "PEa1DDCo0rIQ"
      },
      "source": [
        "class sign_dataset(Dataset):\n",
        "    \n",
        "    def __init__(self, df, transform=None):\n",
        "        self.df = df\n",
        "        self.transform = transform\n",
        "        \n",
        "        self.image_info = self.df.iloc[:, 1:].values\n",
        "        self.label_info = self.df.iloc[:, 0].values\n",
        "        size = self.image_info.shape[0]\n",
        "        \n",
        "        self.image_info = np.reshape(self.image_info, \n",
        "                                     (size, 1, 28, 28)) / 255\n",
        "        self.label_info = np.array(self.label_info)\n",
        "\n",
        "    def __len__(self):\n",
        "        return len(self.image_info)\n",
        "\n",
        "    def __getitem__(self, index):\n",
        "\n",
        "        image = self.image_info[index, :, :]\n",
        "        \n",
        "        label = self.label_info[index]\n",
        "        \n",
        "        result = {'image': image, 'label': label}\n",
        "        \n",
        "        return result"
      ],
      "execution_count": null,
      "outputs": []
    },
    {
      "cell_type": "markdown",
      "metadata": {
        "id": "3VdO8jwfwN5l"
      },
      "source": [
        "### Loading Data"
      ]
    },
    {
      "cell_type": "code",
      "metadata": {
        "id": "i7kUp4qqKZk_"
      },
      "source": [
        "# Training Set\n",
        "training_set = sign_dataset(train, transform=train_transform)\n",
        "train_loader = DataLoader(dataset = dataset_train, batch_size = 4, shuffle=True)\n",
        "\n",
        "# Testing Set\n",
        "testing_set = sign_dataset(test, transform=test_transform)\n",
        "test_loader = DataLoader(dataset = dataset_test, batch_size = 4, shuffle=False)"
      ],
      "execution_count": null,
      "outputs": []
    },
    {
      "cell_type": "markdown",
      "metadata": {
        "id": "DeXSahZu3rH5"
      },
      "source": [
        "## Building models\n",
        "### Preprocessing for models\n",
        "#### https://pytorch.org/tutorials/beginner/finetuning_torchvision_models_tutorial.html\n",
        "\n",
        "https://github.com/yunjey/pytorch-tutorial/blob/master/tutorials/02-intermediate/convolutional_neural_network/main.py\n"
      ]
    },
    {
      "cell_type": "code",
      "metadata": {
        "id": "J9nNgFOG0rIQ"
      },
      "source": [
        "class Net(nn.Module):\n",
        "    def __init__(self):\n",
        "        super(Net, self).__init__()\n",
        "        \n",
        "        kernel_size_1 = (5,5)\n",
        "        pool_size_1 = (2,2)\n",
        "        \n",
        "        self.conv_1 = nn.Conv2d(1, 16, kernel_size_1)\n",
        "        self.maxpool1 = nn.MaxPool2d(pool_size_1, stride = 2, padding = 0)\n",
        "        self.batch1 = nn.BatchNorm2d(16)\n",
        "        self.fc1 = nn.Linear(512, 250)\n",
        "        \n",
        "        self.conv_2 = nn.Conv2d(16, 32, kernel_size_1)\n",
        "        self.maxpool2 = nn.MaxPool2d(pool_size_1, stride = 2, padding = 0)\n",
        "        self.batch2 = nn.BatchNorm2d(32)\n",
        "        self.fc2 = nn.Linear(250, 25)\n",
        "\n",
        "    def forward(self, x):\n",
        "        scores = None\n",
        "\n",
        "        batch_1 = self.batch1(self.conv_1(x))\n",
        "        relu_1 = F.relu(batch_1)\n",
        "        pool_1 = self.maxpool1(relu_1)\n",
        "\n",
        "        batch_2 = self.batch2(self.conv_2(pool_1))\n",
        "        relu_2 = F.relu(batch_2)\n",
        "        pool_2 = self.maxpool2(relu_2)\n",
        "        \n",
        "        view = pool_2.view(pool_2.size(0), -1)\n",
        "        \n",
        "        relu_3 = F.relu(self.fc1(view))\n",
        "        fc = self.fc2(relu_3)\n",
        "        \n",
        "        scores = F.log_softmax(fc, dim=1)\n",
        "        \n",
        "        return scores\n"
      ],
      "execution_count": null,
      "outputs": []
    },
    {
      "cell_type": "code",
      "metadata": {
        "id": "L5XVOij05Ize"
      },
      "source": [
        "def train(model, optimizer, epoch, device, train_loader, log_interval):\n",
        "    model.train()\n",
        "    for idx, data in enumerate(train_loader):\n",
        "        \n",
        "        x = data['image']\n",
        "        x = x.type(torch.FloatTensor).to(device)\n",
        "        \n",
        "        y = data['label']\n",
        "        y = y.type(torch.LongTensor).to(device)\n",
        "        \n",
        "\n",
        "        scores = model(x)\n",
        "        loss = F.cross_entropy(scores, y)\n",
        "\n",
        "        optimizer.zero_grad()\n",
        "         \n",
        "        loss.backward()\n",
        "        optimizer.step()\n",
        "        \n",
        "        if idx % log_interval == 0:\n",
        "          e = epoch\n",
        "          print('Epoch %d, Process %d, loss = %.4f' % (e, idx * len(x), loss.item()))\n",
        "\n",
        "def check_accuracy(model, device, test_loader):\n",
        "    model.eval()\n",
        "    num_correct = 0\n",
        "    num_samples = 0\n",
        "    with torch.no_grad():\n",
        "        for idx, data in enumerate(test_loader):\n",
        "            \n",
        "            x = data['image']\n",
        "            x = x.type(torch.FloatTensor).to(device)\n",
        "            y = data['label']\n",
        "            y = y.type(torch.LongTensor).to(device)\n",
        "            \n",
        "            scores = model(x)\n",
        "            _, pred = scores.max(1, keepdim=True)\n",
        "            \n",
        "            num_correct += pred.eq(y.view_as(pred)).sum()\n",
        "            num_samples += pred.size(0)\n",
        "\n",
        "    acc = num_correct / num_samples\n",
        "    print('Got %d / %d correct (%.2f%%)' % (num_correct, num_samples, 100. * acc))\n",
        "    return acc"
      ],
      "execution_count": null,
      "outputs": []
    },
    {
      "cell_type": "code",
      "metadata": {
        "id": "0jsbKLyp0rIQ"
      },
      "source": [
        "torch.manual_seed(777)\n",
        "\n",
        "epochs = 20\n",
        "learning_rate = 0.001\n",
        "\n",
        "model = Net()\n",
        "optimizer = optim.SGD(model.parameters(), lr=learning_rate)"
      ],
      "execution_count": null,
      "outputs": []
    },
    {
      "cell_type": "code",
      "metadata": {
        "colab": {
          "base_uri": "https://localhost:8080/"
        },
        "id": "HHFtH7PS0rIQ",
        "outputId": "9fae636a-a1bc-4e6d-9135-a40c291970ae"
      },
      "source": [
        "start = time.time()\n",
        "accuracies = []\n",
        "for epoch in range(1, epochs + 1):\n",
        "    train(model, optimizer, epoch, device, train_loader, 10000)\n",
        "    accuracy = check_accuracy(model, device, test_loader)\n",
        "    accuracies.append(accuracy)\n",
        "\n",
        "end = time.time()\n",
        "print(end - start)"
      ],
      "execution_count": null,
      "outputs": [
        {
          "output_type": "stream",
          "text": [
            "Epoch 1, Process 0, loss = 3.1992\n",
            "Got 5961 / 7172 correct (83.11%)\n",
            "Epoch 2, Process 0, loss = 0.3767\n",
            "Got 6392 / 7172 correct (89.12%)\n",
            "Epoch 3, Process 0, loss = 0.1104\n",
            "Got 6465 / 7172 correct (90.14%)\n",
            "Epoch 4, Process 0, loss = 0.0126\n",
            "Got 6621 / 7172 correct (92.32%)\n",
            "Epoch 5, Process 0, loss = 0.0120\n",
            "Got 6614 / 7172 correct (92.22%)\n",
            "Epoch 6, Process 0, loss = 0.0166\n",
            "Got 6655 / 7172 correct (92.79%)\n",
            "Epoch 7, Process 0, loss = 0.0217\n",
            "Got 6633 / 7172 correct (92.48%)\n",
            "Epoch 8, Process 0, loss = 0.0098\n",
            "Got 6651 / 7172 correct (92.74%)\n",
            "Epoch 9, Process 0, loss = 0.0050\n",
            "Got 6644 / 7172 correct (92.64%)\n",
            "Epoch 10, Process 0, loss = 0.0006\n",
            "Got 6668 / 7172 correct (92.97%)\n",
            "Epoch 11, Process 0, loss = 0.0043\n",
            "Got 6671 / 7172 correct (93.01%)\n",
            "Epoch 12, Process 0, loss = 0.0042\n",
            "Got 6675 / 7172 correct (93.07%)\n",
            "Epoch 13, Process 0, loss = 0.0026\n",
            "Got 6685 / 7172 correct (93.21%)\n",
            "Epoch 14, Process 0, loss = 0.0019\n",
            "Got 6667 / 7172 correct (92.96%)\n",
            "Epoch 15, Process 0, loss = 0.0041\n",
            "Got 6691 / 7172 correct (93.29%)\n",
            "Epoch 16, Process 0, loss = 0.0008\n",
            "Got 6688 / 7172 correct (93.25%)\n",
            "Epoch 17, Process 0, loss = 0.0011\n",
            "Got 6673 / 7172 correct (93.04%)\n",
            "Epoch 18, Process 0, loss = 0.0005\n",
            "Got 6699 / 7172 correct (93.40%)\n",
            "Epoch 19, Process 0, loss = 0.0036\n",
            "Got 6690 / 7172 correct (93.28%)\n",
            "Epoch 20, Process 0, loss = 0.0020\n",
            "Got 6677 / 7172 correct (93.10%)\n",
            "850.0894486904144\n"
          ],
          "name": "stdout"
        }
      ]
    },
    {
      "cell_type": "markdown",
      "metadata": {
        "id": "Eq5wItAwanC4"
      },
      "source": [
        "## Evaluation\n"
      ]
    },
    {
      "cell_type": "code",
      "metadata": {
        "id": "NSEYpeZm0rIQ"
      },
      "source": [
        "# Confusion Matrix\n",
        "def confusion_matrix(model, testloader):\n",
        "    model.eval()\n",
        "    true = []\n",
        "    pred = []\n",
        "    with torch.no_grad():\n",
        "        for index, data in enumerate(test_loader):\n",
        "            \n",
        "            x = data['image']\n",
        "            x = x.type(torch.FloatTensor).to(device)\n",
        "            y = data['label']\n",
        "            y = y.type(torch.LongTensor).to(device)\n",
        "\n",
        "            result = model(x)\n",
        "            predicted = torch.argmax(result.data, 1)\n",
        "            true.append(y.cpu().numpy())\n",
        "            pred.append(predicted.cpu().numpy())\n",
        "\n",
        "    true = np.hstack(true)\n",
        "    pred = np.hstack(pred)\n",
        "\n",
        "    return true, pred"
      ],
      "execution_count": null,
      "outputs": []
    },
    {
      "cell_type": "code",
      "metadata": {
        "colab": {
          "base_uri": "https://localhost:8080/",
          "height": 424
        },
        "id": "w1NA_quX0rIQ",
        "outputId": "fd726cda-b6c7-40f8-9268-91141e57eb5e"
      },
      "source": [
        "true, pred = confusion_matrix(model, test_loader)\n",
        "\n",
        "cf_matrix = skmetrics.confusion_matrix(true, pred)\n",
        "\n",
        "plt.figure(figsize=(6, 6))\n",
        "\n",
        "plt.title(\"Confusion matrix\")\n",
        "sns.heatmap(cf_matrix, annot=True, fmt='', cmap='Blues')\n",
        "\n",
        "plt.xlabel('Predicted Label')\n",
        "plt.ylabel('True Label')"
      ],
      "execution_count": null,
      "outputs": [
        {
          "output_type": "execute_result",
          "data": {
            "text/plain": [
              "Text(33.0, 0.5, 'True Label')"
            ]
          },
          "metadata": {
            "tags": []
          },
          "execution_count": 428
        },
        {
          "output_type": "display_data",
          "data": {
            "image/png": "[encoded data removed]",
            "text/plain": [
              "<Figure size 432x432 with 2 Axes>"
            ]
          },
          "metadata": {
            "tags": [],
            "needs_background": "light"
          }
        }
      ]
    },
    {
      "cell_type": "code",
      "metadata": {
        "colab": {
          "base_uri": "https://localhost:8080/",
          "height": 296
        },
        "id": "pTcmKR1q0rIQ",
        "outputId": "75814019-18fa-4aac-f4a6-94fa06b50c02"
      },
      "source": [
        "# Accuracy\n",
        "plt.plot(accuracies)\n",
        "plt.ylabel('Accuracy')\n",
        "plt.xlabel('epoch')"
      ],
      "execution_count": null,
      "outputs": [
        {
          "output_type": "execute_result",
          "data": {
            "text/plain": [
              "Text(0.5, 0, 'epoch')"
            ]
          },
          "metadata": {
            "tags": []
          },
          "execution_count": 429
        },
        {
          "output_type": "display_data",
          "data": {
            "image/png": "[encoded data removed]",
            "text/plain": [
              "<Figure size 432x288 with 1 Axes>"
            ]
          },
          "metadata": {
            "tags": [],
            "needs_background": "light"
          }
        }
      ]
    },
    {
      "cell_type": "code",
      "metadata": {
        "colab": {
          "base_uri": "https://localhost:8080/"
        },
        "id": "RCP1HZz60rIQ",
        "outputId": "6b110d78-eb05-42c3-9d03-22e08f8974d5"
      },
      "source": [
        "true_1 = pd.DataFrame(true)\n",
        "pred_1 = pd.DataFrame(pred)\n",
        "true_1 = true_1.replace({0: classes})\n",
        "pred_1 = pred_1.replace({0: classes})\n",
        "\n",
        "report = classification_report(true_1, pred_1)\n",
        "print(report)"
      ],
      "execution_count": null,
      "outputs": [
        {
          "output_type": "stream",
          "text": [
            "              precision    recall  f1-score   support\n",
            "\n",
            "           A       0.94      1.00      0.97       331\n",
            "           B       0.96      0.99      0.97       432\n",
            "           C       0.94      1.00      0.97       310\n",
            "           D       0.92      0.98      0.95       245\n",
            "           E       0.90      0.92      0.91       498\n",
            "           F       1.00      1.00      1.00       247\n",
            "           G       0.95      0.99      0.97       348\n",
            "           H       0.95      0.95      0.95       436\n",
            "           I       0.93      0.92      0.92       288\n",
            "           K       0.99      0.94      0.96       331\n",
            "           L       1.00      1.00      1.00       209\n",
            "           M       0.99      0.87      0.93       394\n",
            "           N       0.95      0.78      0.85       291\n",
            "           O       1.00      0.88      0.94       246\n",
            "           P       0.93      1.00      0.97       347\n",
            "           Q       0.95      1.00      0.98       164\n",
            "           R       0.99      0.59      0.74       144\n",
            "           S       0.66      0.87      0.75       246\n",
            "           T       0.90      0.75      0.82       248\n",
            "           U       0.82      0.92      0.86       266\n",
            "           V       0.94      0.95      0.95       346\n",
            "           W       1.00      1.00      1.00       206\n",
            "           X       0.85      0.92      0.89       267\n",
            "           Y       1.00      0.94      0.97       332\n",
            "\n",
            "    accuracy                           0.93      7172\n",
            "   macro avg       0.94      0.92      0.93      7172\n",
            "weighted avg       0.94      0.93      0.93      7172\n",
            "\n"
          ],
          "name": "stdout"
        }
      ]
    },
    {
      "cell_type": "markdown",
      "metadata": {
        "id": "2Tse_2lAEf-R"
      },
      "source": [
        "### Reference:\n",
        "\n",
        "#### https://pytorch.org/tutorials/beginner/data_loading_tutorial.html\n",
        "\n",
        "#### https://pytorch.org/tutorials/beginner/finetuning_torchvision_models_tutorial.html\n",
        "\n",
        "https://github.com/yunjey/pytorch-tutorial/blob/master/tutorials/02-intermediate/convolutional_neural_network/main.py"
      ]
    },
    {
      "cell_type": "code",
      "metadata": {
        "id": "JeXUSUC0EknU"
      },
      "source": [
        ""
      ],
      "execution_count": null,
      "outputs": []
    }
  ]
}